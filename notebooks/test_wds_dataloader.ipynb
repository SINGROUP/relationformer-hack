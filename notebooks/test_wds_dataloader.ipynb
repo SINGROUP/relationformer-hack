{
 "cells": [
  {
   "cell_type": "code",
   "execution_count": 1,
   "metadata": {},
   "outputs": [
    {
     "ename": "TypeError",
     "evalue": "unsupported operand type(s) for |: '_GenericAlias' and '_GenericAlias'",
     "output_type": "error",
     "traceback": [
      "\u001b[0;31m---------------------------------------------------------------------------\u001b[0m",
      "\u001b[0;31mTypeError\u001b[0m                                 Traceback (most recent call last)",
      "Cell \u001b[0;32mIn[1], line 6\u001b[0m\n\u001b[1;32m      3\u001b[0m \u001b[38;5;28;01mimport\u001b[39;00m \u001b[38;5;21;01msys\u001b[39;00m\n\u001b[1;32m      5\u001b[0m sys\u001b[38;5;241m.\u001b[39mpath\u001b[38;5;241m.\u001b[39mappend(\u001b[38;5;124m'\u001b[39m\u001b[38;5;124m..\u001b[39m\u001b[38;5;124m'\u001b[39m)\n\u001b[0;32m----> 6\u001b[0m \u001b[38;5;28;01mfrom\u001b[39;00m \u001b[38;5;21;01mdataloading\u001b[39;00m \u001b[38;5;28;01mimport\u001b[39;00m data_loading \u001b[38;5;28;01mas\u001b[39;00m dl\n",
      "File \u001b[0;32m/scratch/phys/sin/hackathon/relationformer-hack/notebooks/../dataloading/data_loading.py:117\u001b[0m\n\u001b[1;32m    113\u001b[0m         \u001b[38;5;28;01mreturn\u001b[39;00m \u001b[38;5;28;01mFalse\u001b[39;00m\n\u001b[1;32m    114\u001b[0m     \u001b[38;5;28;01mreturn\u001b[39;00m \u001b[38;5;28;01mTrue\u001b[39;00m\n\u001b[0;32m--> 117\u001b[0m \u001b[38;5;28;01mdef\u001b[39;00m \u001b[38;5;21mdecode_xyz\u001b[39m(key: \u001b[38;5;28mstr\u001b[39m, data: Any) \u001b[38;5;241m-\u001b[39m\u001b[38;5;241m>\u001b[39m \u001b[43mTuple\u001b[49m\u001b[43m[\u001b[49m\u001b[43mnp\u001b[49m\u001b[38;5;241;43m.\u001b[39;49m\u001b[43mndarray\u001b[49m\u001b[43m,\u001b[49m\u001b[43m \u001b[49m\u001b[43mnp\u001b[49m\u001b[38;5;241;43m.\u001b[39;49m\u001b[43mndarray\u001b[49m\u001b[43m]\u001b[49m\u001b[43m \u001b[49m\u001b[38;5;241;43m|\u001b[39;49m\u001b[43m \u001b[49m\u001b[43mTuple\u001b[49m\u001b[43m[\u001b[49m\u001b[38;5;28;43;01mNone\u001b[39;49;00m\u001b[43m,\u001b[49m\u001b[43m \u001b[49m\u001b[38;5;28;43;01mNone\u001b[39;49;00m\u001b[43m]\u001b[49m:\n\u001b[1;32m    118\u001b[0m \u001b[38;5;250m    \u001b[39m\u001b[38;5;124;03m\"\"\"\u001b[39;00m\n\u001b[1;32m    119\u001b[0m \u001b[38;5;124;03m    Webdataset pipeline function for decoding xyz files.\u001b[39;00m\n\u001b[1;32m    120\u001b[0m \n\u001b[0;32m   (...)\u001b[0m\n\u001b[1;32m    132\u001b[0m \u001b[38;5;124;03m        If the stream key did not match, the tuple is ``(None, None)`` instead.\u001b[39;00m\n\u001b[1;32m    133\u001b[0m \u001b[38;5;124;03m    \"\"\"\u001b[39;00m\n\u001b[1;32m    134\u001b[0m     \u001b[38;5;28;01mif\u001b[39;00m key \u001b[38;5;241m==\u001b[39m \u001b[38;5;124m\"\u001b[39m\u001b[38;5;124m.xyz\u001b[39m\u001b[38;5;124m\"\u001b[39m:\n",
      "\u001b[0;31mTypeError\u001b[0m: unsupported operand type(s) for |: '_GenericAlias' and '_GenericAlias'"
     ]
    }
   ],
   "source": [
    "import webdataset as wds\n",
    "\n",
    "import sys\n",
    "\n",
    "sys.path.append('..')\n",
    "from dataloading import data_loading as dl"
   ]
  },
  {
   "cell_type": "code",
   "execution_count": null,
   "metadata": {},
   "outputs": [],
   "source": [
    "def make_webDataloader(cfg, mode='train'):\n",
    "    \n",
    "    assert mode in ['train', 'val', 'test'], mode\n",
    "\n",
    "    shard_list = dl.ShardList(\n",
    "        cfg[f'urls_{mode}'],\n",
    "        base_path=cfg['data_dir'],\n",
    "        world_size=cfg['world_size'],\n",
    "        rank=cfg['global_rank'],\n",
    "        substitute_param=(mode == 'train'),\n",
    "    )\n",
    "\n",
    "    dataset = wds.WebDataset(shard_list)\n",
    "    dataset.pipeline.pop()\n",
    "    if mode == 'train': dataset.append(wds.shuffle(10))          # Shuffle order of shards\n",
    "    dataset.append(wds.tariterators.tarfile_to_samples())        # Gather files inside tar files into samples\n",
    "    dataset.append(wds.split_by_worker)                          # Use a different subset of samples in shards in different workers\n",
    "    if mode == 'train': dataset.append(wds.shuffle(100))         # Shuffle samples within a worker process\n",
    "    dataset.append(wds.decode('pill', dl.decode_xyz))            # Decode image and xyz files\n",
    "    dataset.append(dl.rotate_and_stack(reverse=False))           # Combine separate images into a stack, reverse=True only for QUAM dataset\n",
    "    dataset.append(dl.batched(cfg['batch_size']))                # Gather samples into batches\n",
    "    #dataset = dataset.map(partial(apply_preprocessing, cfg=cfg)) # Preprocess batch\n",
    "\n",
    "    dataloader = wds.WebLoader(\n",
    "        dataset,\n",
    "        num_workers=cfg['num_workers'],\n",
    "        batch_size=None, # Batching is done in the WebDataset\n",
    "        pin_memory=True,\n",
    "        collate_fn=dl.default_collate,\n",
    "        persistent_workers=False\n",
    "    )\n",
    "    \n",
    "    return dataset, dataloader\n"
   ]
  }
 ],
 "metadata": {
  "kernelspec": {
   "display_name": "lauri",
   "language": "python",
   "name": "python3"
  },
  "language_info": {
   "codemirror_mode": {
    "name": "ipython",
    "version": 3
   },
   "file_extension": ".py",
   "mimetype": "text/x-python",
   "name": "python",
   "nbconvert_exporter": "python",
   "pygments_lexer": "ipython3",
   "version": "3.8.19"
  }
 },
 "nbformat": 4,
 "nbformat_minor": 2
}
